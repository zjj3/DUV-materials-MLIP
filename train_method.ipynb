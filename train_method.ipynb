{
 "cells": [
  {
   "cell_type": "markdown",
   "metadata": {},
   "source": [
    "Step 1: Initial protocell structure optimisation\n",
    "Structure optimisation using BeGeN2 as an example, prepare POSCAR, INCAR, POTCAR"
   ]
  },
  {
   "cell_type": "markdown",
   "metadata": {},
   "source": [
    "####INCAR ####\n",
    "Global Parameters\n",
    "ISTART   =  0              (Read existing wavefunction; if there)\n",
    "ISPIN    =  0              (Non-Spin polarised DFT)\n",
    "# ICHARG =  11             (Non-self-consistent: GGA/LDA band structures)\n",
    "LREAL    = .FALSE.         (Projection operators: automatic)\n",
    "ENCUT    =  700            (Cut-off energy for plane wave basis set, in eV)\n",
    "PREC     =  A              (Precision level)\n",
    "LWAVE    = .FALSE.         (Write WAVECAR or not)\n",
    "LCHARG   = .FALSE.         (Write CHGCAR or not)\n",
    "ADDGRID  = .TRUE.          (Increase grid; helps GGA convergence)\n",
    "\n",
    "#SYMPREC = 1E-6 \n",
    "\n",
    "Lattice Relaxation\n",
    "NELM     = 200\n",
    "POTIM    = 0.1\n",
    "NPAR    = 2\n",
    "\n",
    "NSW      =  300            (number of ionic steps)\n",
    "ISMEAR   =  0              (gaussian smearing method )\n",
    "SIGMA    =  0.05           (please check the width of the smearing)\n",
    "IBRION   =  1              (Algorithm: 0-MD; 1-Quasi-New; 2-CG)\n",
    "ISIF     =  3              (optimize atomic coordinates and lattice parameters) \n",
    "EDIFF    = 1E-7           \n",
    "EDIFFG   = -1e-3          (Ionic convergence; eV/AA)\n",
    "\n",
    "LVDW = .T.\n",
    "IVDW = 12"
   ]
  },
  {
   "cell_type": "markdown",
   "metadata": {},
   "source": [
    "Step 2: Construct the training set\n",
    "After we get the high precision protocells, we expand the cells by phononpy to get the supercells then we get the configuration of the training set by manual perturbation, AIMD, and active learning, we give the code for manual perturbation below."
   ]
  },
  {
   "cell_type": "code",
   "execution_count": null,
   "metadata": {},
   "outputs": [],
   "source": [
    "#!/usr/bin/env python \n",
    "# coding: utf-8\n",
    "\n",
    "from dpdata import LabeledSystem,MultiSystems\n",
    "import os \n",
    "import dpdata\n",
    "import shutil\n",
    "\n",
    "def GetFileFromThisRootDir(dir,ext = None):\n",
    "    allfiles = []\n",
    "    needExtFilter = (ext != None)\n",
    "    for root,dirs,files in os.walk(dir):\n",
    "        for filespath in files:\n",
    "            #filepath = os.path.join(root, filespath)\n",
    "            filepath = os.path.join( filespath)\n",
    "            extension = os.path.splitext(filepath)[1][1:]\n",
    "            if needExtFilter and extension in ext:\n",
    "                allfiles.append(filepath)\n",
    "            elif not needExtFilter:\n",
    "                allfiles.append(filepath)\n",
    "    return allfiles\n",
    "    \n",
    "def del_folder(filepath):\n",
    "    \"\"\"\n",
    "    删除某一目录下的所有文件或文件夹\n",
    "    :param filepath: 路径\n",
    "    :return:\n",
    "    \"\"\"\n",
    "    del_list = os.listdir(filepath)\n",
    "    for f in del_list:\n",
    "        file_path = os.path.join(filepath, f)\n",
    "        if os.path.isfile(file_path):\n",
    "            os.remove(file_path)\n",
    "        elif os.path.isdir(file_path):\n",
    "            shutil.rmtree(file_path)\n",
    "            \n",
    "# 转换文件格式和编码方式\n",
    "structure_name_list = GetFileFromThisRootDir( \"./input/\")\n",
    "if os.path.exists('./output_structure')==False:\n",
    "    os.mkdir('./output_structure')\n",
    "else:\n",
    "    del_folder('./output_structure')\n",
    "    \n",
    "print(\"每个构型扰动生成多少帧构型! \")\n",
    "num_frame = int(input(\"\"))\n",
    "print(\"晶胞扰动的幅度(%)! \")\n",
    "cell_pert_fraction = float(input(\"\"))\n",
    "print(\"原子距离扰动的幅度,单位埃! \")\n",
    "atom_pert_distance = float(input(\"\"))\n",
    "\n",
    "for structure_name in structure_name_list:\n",
    "    print(structure_name)\n",
    "    perturbed_system = dpdata.System('./input/'+structure_name,fmt=\"vasp/poscar\").perturb(pert_num=num_frame, \n",
    "        cell_pert_fraction=cell_pert_fraction, \n",
    "        atom_pert_distance=atom_pert_distance, \n",
    "        atom_pert_style='normal')#normal-正态分布 uniform-限定长度均匀散点 const-常数\n",
    "    for i in range(num_frame):\n",
    "        perturbed_system.to('vasp/poscar','./output_structure/' +structure_name+\"-\"+str(i+1),frame_idx=i)"
   ]
  },
  {
   "cell_type": "markdown",
   "metadata": {},
   "source": [
    "After obtaining the configurations of the training set, we perform a single-point energy calculation to obtain the energy and force of each configuration."
   ]
  },
  {
   "cell_type": "markdown",
   "metadata": {},
   "source": [
    "#####manual perturbation #####\n",
    "SYSTEM=BeGeN2\n",
    "ISTART=0\n",
    "ICHARG=2\n",
    "ENCUT=700\n",
    "ISMEAR=0\n",
    "SIGMA=0.1\n",
    "EDIFF=1E-7\n",
    "NELMIN=5\n",
    "EDIFFG=-1E-4\n",
    "ISIF=3\n",
    "IBRION=-1\n",
    "POTIM=0.1\n",
    "NSW=0\n",
    "PREC=A\n",
    "IALGO=38\n",
    "LWAVE=F\n",
    "LCHARG=F\n",
    "LREAL=F\n",
    "ADDGRID=T\n",
    "NPAR=2\n",
    "LVDW = .T.\n",
    "IVDW = 12"
   ]
  },
  {
   "cell_type": "markdown",
   "metadata": {},
   "source": [
    "Part 3: Training Machine Learning Potentials\n",
    "After we get the training set, we fit the machine learning potential by GPUMD with the following control file"
   ]
  },
  {
   "cell_type": "markdown",
   "metadata": {},
   "source": [
    "type         \t3 Be Ge N\n",
    "version \t\t4\n",
    "model_type  \t0\n",
    "neuron\t\t\t50\t\t\t   # 默认 30\n",
    "cutoff    \t\t6  4           # 默认 8 4\n",
    "n_max\t\t\t10 8\n",
    "basis_size\t\t10 8\t\t\t   # 默认 8 8 \n",
    "l_max\t\t\t4 2 1\t\t   # 默认 4 2 0\n",
    "lambda_e\t\t1\t\t\t   \n",
    "lambda_f\t\t1\t\t\t   # 默认 1\n",
    "lambda_v\t\t0.1\n",
    "lambda_shear\t1\n",
    "force_delta     0\t\t\n",
    "batch\t\t\t1000 \t\t   # 默认 1000\n",
    "population      50 \t\t\t   # 默认 50\n",
    "generation    \t400000\n"
   ]
  }
 ],
 "metadata": {
  "kernelspec": {
   "display_name": "Python 3",
   "language": "python",
   "name": "python3"
  },
  "language_info": {
   "name": "python",
   "version": "3.10.11"
  }
 },
 "nbformat": 4,
 "nbformat_minor": 2
}
